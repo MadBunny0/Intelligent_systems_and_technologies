{
  "cells": [
    {
      "cell_type": "markdown",
      "metadata": {
        "id": "6qkusa0EHRJZ"
      },
      "source": [
        "Крестики-нолики\n",
        "---\n",
        "Обучение с подкреплением\n",
        "\n",
        "<img style=\"float:left\" src=\"board.png\" alt=\"drawing\" width=\"200\"/>"
      ]
    },
    {
      "cell_type": "code",
      "execution_count": 1,
      "metadata": {
        "id": "qjt-ttyvHRJa"
      },
      "outputs": [],
      "source": [
        "import numpy as np\n",
        "import pickle\n",
        "import matplotlib.pyplot as plt"
      ]
    },
    {
      "cell_type": "code",
      "execution_count": 2,
      "metadata": {
        "id": "ONaXjQimHRJb"
      },
      "outputs": [],
      "source": [
        "BOARD_ROWS = 3\n",
        "BOARD_COLS = 3"
      ]
    },
    {
      "cell_type": "markdown",
      "metadata": {
        "id": "-pUzZyseHRJb"
      },
      "source": [
        "### Состояние поля\n",
        "---\n",
        "Играют 2 игрока: p1 (крестик) и p2(нолик); свободные клетки инициализированы нулями"
      ]
    },
    {
      "cell_type": "code",
      "source": [
        "reward = [0]"
      ],
      "metadata": {
        "id": "DGiwV5qYmL0O"
      },
      "execution_count": null,
      "outputs": []
    },
    {
      "cell_type": "code",
      "execution_count": 32,
      "metadata": {
        "id": "WVsLukEeHRJb"
      },
      "outputs": [],
      "source": [
        "class State:\n",
        "    def __init__(self, p1, p2):\n",
        "        self.board = np.zeros((BOARD_ROWS, BOARD_COLS))\n",
        "        self.p1 = p1\n",
        "        self.p2 = p2\n",
        "        self.isEnd = False\n",
        "        self.boardHash = None\n",
        "       # p1 делает первый ход\n",
        "        self.playerSymbol = 1\n",
        "        self.reward1 = [0]\n",
        "        self.reward2 = [0]\n",
        "\n",
        "    # хешируем состояние поля\n",
        "    def getHash(self):\n",
        "        self.boardHash = str(self.board.reshape(BOARD_COLS*BOARD_ROWS))\n",
        "        return self.boardHash\n",
        "\n",
        "    def winner(self):\n",
        "        # проверяем строки\n",
        "        for i in range(BOARD_ROWS):\n",
        "            if sum(self.board[i, :]) == 3:\n",
        "                self.isEnd = True\n",
        "                return 1\n",
        "            if sum(self.board[i, :]) == -3:\n",
        "                self.isEnd = True\n",
        "                return -1\n",
        "        # проверяем столбцы\n",
        "        for i in range(BOARD_COLS):\n",
        "            if sum(self.board[:, i]) == 3:\n",
        "                self.isEnd = True\n",
        "                return 1\n",
        "            if sum(self.board[:, i]) == -3:\n",
        "                self.isEnd = True\n",
        "                return -1\n",
        "        # проверяем диагонали\n",
        "        diag_sum1 = sum([self.board[i, i] for i in range(BOARD_COLS)])\n",
        "        diag_sum2 = sum([self.board[i, BOARD_COLS-i-1] for i in range(BOARD_COLS)])\n",
        "        diag_sum = max(diag_sum1, diag_sum2, key=abs)\n",
        "        if diag_sum == 3:\n",
        "            self.isEnd = True\n",
        "            return 1\n",
        "        if diag_sum == -3:\n",
        "            self.isEnd = True\n",
        "            return -1\n",
        "\n",
        "        # ничья\n",
        "        # нет доступных позиций\n",
        "        if len(self.availablePositions()) == 0:\n",
        "            self.isEnd = True\n",
        "            return 0\n",
        "        # игра не закончена\n",
        "        self.isEnd = False\n",
        "        return None\n",
        "\n",
        "    def availablePositions(self):\n",
        "        positions = []\n",
        "        for i in range(BOARD_ROWS):\n",
        "            for j in range(BOARD_COLS):\n",
        "                if self.board[i, j] == 0:\n",
        "                    positions.append((i, j))  # должен быть кортежем\n",
        "        return positions\n",
        "\n",
        "    def updateState(self, position):\n",
        "        self.board[position] = self.playerSymbol\n",
        "        # переключение на другого игрока\n",
        "        self.playerSymbol = -1 if self.playerSymbol == 1 else 1\n",
        "\n",
        "    # только если игра закончена\n",
        "    def giveReward(self):\n",
        "        result = self.winner()\n",
        "        # вознаграждение\n",
        "        if result == 1:\n",
        "            self.p1.feedReward(1)\n",
        "            self.p2.feedReward(0)\n",
        "            self.reward1.append(self.reward1[-1] + 1)\n",
        "            self.reward2.append(self.reward2[-1] - 1)\n",
        "        elif result == -1:\n",
        "            self.p1.feedReward(0)\n",
        "            self.p2.feedReward(1)\n",
        "            self.reward1.append(self.reward1[-1] - 1)\n",
        "            self.reward2.append(self.reward2[-1] + 1)\n",
        "        else:\n",
        "            self.p1.feedReward(0.1)\n",
        "            self.p2.feedReward(0.5)\n",
        "            self.reward1.append(self.reward1[-1] + 0.1)\n",
        "            self.reward2.append(self.reward2[-1] + 0.5)\n",
        "\n",
        "    # обновление поля\n",
        "    def reset(self):\n",
        "        self.board = np.zeros((BOARD_ROWS, BOARD_COLS))\n",
        "        self.boardHash = None\n",
        "        self.isEnd = False\n",
        "        self.playerSymbol = 1\n",
        "\n",
        "    def play(self, rounds=100):\n",
        "        for i in range(rounds):\n",
        "            if i%1000 == 0:\n",
        "                print(\"Сыграно игр: {}\".format(i))\n",
        "            while not self.isEnd:\n",
        "                # Player 1\n",
        "                positions = self.availablePositions()\n",
        "                p1_action = self.p1.chooseAction(positions, self.board, self.playerSymbol)\n",
        "                # выполняем действие и обновляем состояние поля\n",
        "                self.updateState(p1_action)\n",
        "                board_hash = self.getHash()\n",
        "                self.p1.addState(board_hash)\n",
        "\n",
        "                # проверяем, не закончилась ли игра\n",
        "                win = self.winner()\n",
        "                if win is not None:\n",
        "                    # self.showBoard()\n",
        "                    # игра закончилась победой игрока p1 или ничьей\n",
        "                    self.giveReward()\n",
        "                    self.p1.reset()\n",
        "                    self.p2.reset()\n",
        "                    self.reset()\n",
        "                    break\n",
        "\n",
        "                else:\n",
        "                    # Player 2\n",
        "                    positions = self.availablePositions()\n",
        "                    p2_action = self.p2.chooseAction(positions, self.board, self.playerSymbol)\n",
        "                    self.updateState(p2_action)\n",
        "                    board_hash = self.getHash()\n",
        "                    self.p2.addState(board_hash)\n",
        "\n",
        "                    win = self.winner()\n",
        "                    if win is not None:\n",
        "                        # self.showBoard()\n",
        "                        # игра закончилась победой игрока p2 или ничьей\n",
        "                        self.giveReward()\n",
        "                        self.p1.reset()\n",
        "                        self.p2.reset()\n",
        "                        self.reset()\n",
        "                        break\n",
        "\n",
        "    # игра против человека\n",
        "    def play2(self):\n",
        "        while not self.isEnd:\n",
        "            # Player 1\n",
        "            positions = self.availablePositions()\n",
        "            p1_action = self.p1.chooseAction(positions, self.board, self.playerSymbol)\n",
        "            # выполняем действие и обновляем состояние поля\n",
        "            self.updateState(p1_action)\n",
        "            self.showBoard()\n",
        "            # проверяем, не закончена ли игра\n",
        "            win = self.winner()\n",
        "            if win is not None:\n",
        "                if win == 1:\n",
        "                    print(self.p1.name, \"выиграл! Смирись, смертный!\")\n",
        "                else:\n",
        "                    print(\"Ничья! Неплохо, {}, но ты можешь лучше!\".format(self.p2.name))\n",
        "                self.reset()\n",
        "                break\n",
        "\n",
        "            else:\n",
        "                # Player 2\n",
        "                positions = self.availablePositions()\n",
        "                p2_action = self.p2.chooseAction(positions)\n",
        "\n",
        "                self.updateState(p2_action)\n",
        "                self.showBoard()\n",
        "                win = self.winner()\n",
        "                if win is not None:\n",
        "                    if win == -1:\n",
        "                        print(self.p2.name, \", победа за тобой! Похоже, вы настоящий мастер!\")\n",
        "                    else:\n",
        "                        print(\"Ничья! Неплохо, {}, но ты можешь лучше!\".format(self.p2.name))\n",
        "                    self.reset()\n",
        "                    break\n",
        "\n",
        "    def showBoard(self):\n",
        "        # p1: x  p2: o\n",
        "        for i in range(0, BOARD_ROWS):\n",
        "            print('-------------')\n",
        "            out = '| '\n",
        "            for j in range(0, BOARD_COLS):\n",
        "                if self.board[i, j] == 1:\n",
        "                    token = 'x'\n",
        "                if self.board[i, j] == -1:\n",
        "                    token = 'o'\n",
        "                if self.board[i, j] == 0:\n",
        "                    token = ' '\n",
        "                out += token + ' | '\n",
        "            print(out)\n",
        "        print('-------------')"
      ]
    },
    {
      "cell_type": "code",
      "execution_count": 35,
      "metadata": {
        "id": "Ja7EeB_HHRJc"
      },
      "outputs": [],
      "source": [
        "class Player:\n",
        "    def __init__(self, name, exp_rate=0.3):\n",
        "        self.name = name\n",
        "        self.states = []  # записываем все занятые позиции\n",
        "        self.lr = 0.2\n",
        "        self.exp_rate = exp_rate\n",
        "        self.decay_gamma = 0.9\n",
        "        self.states_value = {}  # состояние -> значение\n",
        "        self.reward = [0]\n",
        "\n",
        "    def getHash(self, board):\n",
        "        boardHash = str(board.reshape(BOARD_COLS*BOARD_ROWS))\n",
        "        return boardHash\n",
        "\n",
        "    def chooseAction(self, positions, current_board, symbol):\n",
        "        if np.random.uniform(0, 1) <= self.exp_rate:\n",
        "            # выбираем рандомное действие\n",
        "            idx = np.random.choice(len(positions))\n",
        "            action = positions[idx]\n",
        "        else:\n",
        "            value_max = -999\n",
        "            for p in positions:\n",
        "                next_board = current_board.copy()\n",
        "                next_board[p] = symbol\n",
        "                next_boardHash = self.getHash(next_board)\n",
        "                value = 0 if self.states_value.get(next_boardHash) is None else self.states_value.get(next_boardHash)\n",
        "                # print(\"value\", value)\n",
        "                if value >= value_max:\n",
        "                    value_max = value\n",
        "                    action = p\n",
        "        # print(\"{} takes action {}\".format(self.name, action))\n",
        "        return action\n",
        "\n",
        "    # добавляем сохранённое состояние\n",
        "    def addState(self, state):\n",
        "        self.states.append(state)\n",
        "\n",
        "    # в конце игры обновляем значения состояний в обратном порядке\n",
        "    def feedReward(self, reward):\n",
        "        for st in reversed(self.states):\n",
        "            if self.states_value.get(st) is None:\n",
        "                self.states_value[st] = 0\n",
        "            self.states_value[st] += self.lr*(self.decay_gamma*reward - self.states_value[st])\n",
        "            reward = self.states_value[st]\n",
        "        self.reward.append(self.reward[-1] + reward)\n",
        "\n",
        "    def reset(self):\n",
        "        self.states = []\n",
        "\n",
        "    def savePolicy(self):\n",
        "        fw = open('policy_' + str(self.name), 'wb')\n",
        "        pickle.dump(self.states_value, fw)\n",
        "        fw.close()\n",
        "\n",
        "    def loadPolicy(self, file):\n",
        "        fr = open(file,'rb')\n",
        "        self.states_value = pickle.load(fr)\n",
        "        fr.close()"
      ]
    },
    {
      "cell_type": "code",
      "execution_count": 14,
      "metadata": {
        "id": "xaJiZ-T9HRJc"
      },
      "outputs": [],
      "source": [
        "class HumanPlayer:\n",
        "    def __init__(self, name):\n",
        "        self.name = name\n",
        "\n",
        "    def chooseAction(self, positions):\n",
        "        while True:\n",
        "            row = int(input(\"Введите номер строки для вашего хода:\"))\n",
        "            col = int(input(\"Введите номер столбца для вашего хода:\"))\n",
        "            action = (row, col)\n",
        "            if action in positions:\n",
        "                return action\n",
        "            else:\n",
        "                print(\"Кажется, вы выбрали занятую клетку!\\nНомера строк и столбцов начинаются с 0.\")\n",
        "\n",
        "    def addState(self, state):\n",
        "        pass\n",
        "\n",
        "    def feedReward(self, reward):\n",
        "        pass\n",
        "\n",
        "    def reset(self):\n",
        "        pass"
      ]
    },
    {
      "cell_type": "markdown",
      "metadata": {
        "id": "ZjXrBbjEHRJc"
      },
      "source": [
        "### Обучение"
      ]
    },
    {
      "cell_type": "code",
      "execution_count": 36,
      "metadata": {
        "colab": {
          "base_uri": "https://localhost:8080/"
        },
        "id": "gsfez0tzHRJc",
        "outputId": "199f2e9e-ea5d-4870-adbd-84b3524dc104"
      },
      "outputs": [
        {
          "output_type": "stream",
          "name": "stdout",
          "text": [
            "Обучение самого мощного игрока в крестики-нолики...\n",
            "Сыграно игр: 0\n",
            "Сыграно игр: 1000\n",
            "Сыграно игр: 2000\n",
            "Сыграно игр: 3000\n",
            "Сыграно игр: 4000\n",
            "Сыграно игр: 5000\n",
            "Сыграно игр: 6000\n",
            "Сыграно игр: 7000\n",
            "Сыграно игр: 8000\n",
            "Сыграно игр: 9000\n",
            "Сыграно игр: 10000\n",
            "Сыграно игр: 11000\n",
            "Сыграно игр: 12000\n",
            "Сыграно игр: 13000\n",
            "Сыграно игр: 14000\n",
            "Сыграно игр: 15000\n",
            "Сыграно игр: 16000\n",
            "Сыграно игр: 17000\n",
            "Сыграно игр: 18000\n",
            "Сыграно игр: 19000\n",
            "Сыграно игр: 20000\n",
            "Сыграно игр: 21000\n",
            "Сыграно игр: 22000\n",
            "Сыграно игр: 23000\n",
            "Сыграно игр: 24000\n",
            "Сыграно игр: 25000\n",
            "Сыграно игр: 26000\n",
            "Сыграно игр: 27000\n",
            "Сыграно игр: 28000\n",
            "Сыграно игр: 29000\n",
            "Сыграно игр: 30000\n",
            "Сыграно игр: 31000\n",
            "Сыграно игр: 32000\n",
            "Сыграно игр: 33000\n",
            "Сыграно игр: 34000\n",
            "Сыграно игр: 35000\n",
            "Сыграно игр: 36000\n",
            "Сыграно игр: 37000\n",
            "Сыграно игр: 38000\n",
            "Сыграно игр: 39000\n",
            "Сыграно игр: 40000\n",
            "Сыграно игр: 41000\n",
            "Сыграно игр: 42000\n",
            "Сыграно игр: 43000\n",
            "Сыграно игр: 44000\n",
            "Сыграно игр: 45000\n",
            "Сыграно игр: 46000\n",
            "Сыграно игр: 47000\n",
            "Сыграно игр: 48000\n",
            "Сыграно игр: 49000\n"
          ]
        }
      ],
      "source": [
        "p1 = Player(\"p1\")\n",
        "p2 = Player(\"p2\")\n",
        "\n",
        "st = State(p1, p2)\n",
        "print(\"Обучение самого мощного игрока в крестики-нолики...\")\n",
        "st.play(50000)"
      ]
    },
    {
      "cell_type": "code",
      "source": [
        "x = np.linspace(0, 50000, num=50001)\n",
        "\n",
        "fig, ax = plt.subplots(figsize=(12,7), layout='constrained')\n",
        "ax.plot(x, st.reward1, label='rewarding')\n",
        "ax.set_xlabel('Step')\n",
        "ax.set_ylabel('Reward')\n",
        "ax.set_title(\"Rewarding plot\")\n",
        "ax.legend()\n",
        "plt.savefig('Rewarding plot')"
      ],
      "metadata": {
        "colab": {
          "base_uri": "https://localhost:8080/",
          "height": 728
        },
        "id": "74YmgtJNo9H8",
        "outputId": "1cf8ea82-ce98-4821-92a8-41ad03bc950a"
      },
      "execution_count": 45,
      "outputs": [
        {
          "output_type": "display_data",
          "data": {
            "text/plain": [
              "<Figure size 1200x700 with 1 Axes>"
            ],
            "image/png": "[encoded data removed]"
          },
          "metadata": {}
        }
      ]
    },
    {
      "cell_type": "code",
      "execution_count": null,
      "metadata": {
        "id": "eLTtvMTkHRJd"
      },
      "outputs": [],
      "source": [
        "p1.savePolicy()\n",
        "p2.savePolicy()"
      ]
    },
    {
      "cell_type": "code",
      "execution_count": null,
      "metadata": {
        "id": "6C3a2j0vHRJd"
      },
      "outputs": [],
      "source": [
        "p1.loadPolicy(\"policy_p1\")"
      ]
    },
    {
      "cell_type": "markdown",
      "metadata": {
        "id": "u-63lRW5HRJd"
      },
      "source": [
        "### Человек против компьютера"
      ]
    },
    {
      "cell_type": "code",
      "execution_count": null,
      "metadata": {
        "colab": {
          "base_uri": "https://localhost:8080/"
        },
        "id": "bTwNRP8_HRJd",
        "outputId": "77250103-22e0-4540-fce3-20dd8c5e027b"
      },
      "outputs": [
        {
          "output_type": "stream",
          "name": "stdout",
          "text": [
            "Введите ваше имя:\n",
            "-------------\n",
            "| x |   |   | \n",
            "-------------\n",
            "|   |   |   | \n",
            "-------------\n",
            "|   |   |   | \n",
            "-------------\n",
            "Введите номер строки для вашего хода:1\n",
            "Введите номер столбца для вашего хода:1\n",
            "-------------\n",
            "| x |   |   | \n",
            "-------------\n",
            "|   | o |   | \n",
            "-------------\n",
            "|   |   |   | \n",
            "-------------\n",
            "-------------\n",
            "| x |   | x | \n",
            "-------------\n",
            "|   | o |   | \n",
            "-------------\n",
            "|   |   |   | \n",
            "-------------\n",
            "Введите номер строки для вашего хода:0\n",
            "Введите номер столбца для вашего хода:1\n",
            "-------------\n",
            "| x | o | x | \n",
            "-------------\n",
            "|   | o |   | \n",
            "-------------\n",
            "|   |   |   | \n",
            "-------------\n",
            "-------------\n",
            "| x | o | x | \n",
            "-------------\n",
            "|   | o |   | \n",
            "-------------\n",
            "|   | x |   | \n",
            "-------------\n",
            "Введите номер строки для вашего хода:0\n",
            "Введите номер столбца для вашего хода:1\n",
            "Кажется, вы выбрали занятую клетку!\n",
            "Номера строк и столбцов начинаются с 0.\n",
            "Введите номер строки для вашего хода:1\n",
            "Введите номер столбца для вашего хода:0\n",
            "-------------\n",
            "| x | o | x | \n",
            "-------------\n",
            "| o | o |   | \n",
            "-------------\n",
            "|   | x |   | \n",
            "-------------\n",
            "-------------\n",
            "| x | o | x | \n",
            "-------------\n",
            "| o | o | x | \n",
            "-------------\n",
            "|   | x |   | \n",
            "-------------\n",
            "Введите номер строки для вашего хода:2\n",
            "Введите номер столбца для вашего хода:2\n",
            "-------------\n",
            "| x | o | x | \n",
            "-------------\n",
            "| o | o | x | \n",
            "-------------\n",
            "|   | x | o | \n",
            "-------------\n",
            "-------------\n",
            "| x | o | x | \n",
            "-------------\n",
            "| o | o | x | \n",
            "-------------\n",
            "| x | x | o | \n",
            "-------------\n",
            "Ничья! Неплохо, , но ты можешь лучше!\n"
          ]
        }
      ],
      "source": [
        "## p1 = Player(\"Компьютер\", exp_rate=0)\n",
        "p1.loadPolicy(\"policy_p1\")\n",
        "\n",
        "p2 = HumanPlayer(input(\"Введите ваше имя:\"))\n",
        "\n",
        "st = State(p1, p2)\n",
        "st.play2()"
      ]
    },
    {
      "cell_type": "code",
      "execution_count": null,
      "metadata": {
        "id": "s97am3GyHRJd"
      },
      "outputs": [],
      "source": []
    }
  ],
  "metadata": {
    "kernelspec": {
      "display_name": "Python 3",
      "language": "python",
      "name": "python3"
    },
    "language_info": {
      "codemirror_mode": {
        "name": "ipython",
        "version": 3
      },
      "file_extension": ".py",
      "mimetype": "text/x-python",
      "name": "python",
      "nbconvert_exporter": "python",
      "pygments_lexer": "ipython3",
      "version": "3.7.4"
    },
    "colab": {
      "provenance": []
    }
  },
  "nbformat": 4,
  "nbformat_minor": 0
}